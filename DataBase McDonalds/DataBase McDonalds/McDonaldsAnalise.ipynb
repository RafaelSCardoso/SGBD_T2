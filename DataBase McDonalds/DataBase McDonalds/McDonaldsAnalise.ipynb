{
 "cells": [
  {
   "cell_type": "code",
   "execution_count": 1,
   "metadata": {},
   "outputs": [],
   "source": [
    "import pandas as pd"
   ]
  },
  {
   "cell_type": "markdown",
   "metadata": {},
   "source": [
    "https://datasetsearch.research.google.comsearchquery=Dataset%20menu%20burguer%20king&docid=jU4aqVfIIhV9Y3FcAAAAAA%3D%3D\n",
    "https://www.kaggle.com/mcdonalds/nutrition-facts"
   ]
  },
  {
   "cell_type": "markdown",
   "metadata": {},
   "source": [
    "Através da analise do menu do McDonalds, buscamos analisar e mostrar a quantidade de lanches estariam enquandrados nos mais saudaveis com base em uma dieta diaria de 2000 calorias e com o limite de 25g (açucar), 2g (sódio) e 1g (gorduras trans) como recomendações da OMS .\n",
    "Temos a coluna alvo como 'Target' baseando nos dados acima."
   ]
  },
  {
   "cell_type": "code",
   "execution_count": 2,
   "metadata": {},
   "outputs": [
    {
     "data": {
      "text/html": [
       "<div>\n",
       "<style scoped>\n",
       "    .dataframe tbody tr th:only-of-type {\n",
       "        vertical-align: middle;\n",
       "    }\n",
       "\n",
       "    .dataframe tbody tr th {\n",
       "        vertical-align: top;\n",
       "    }\n",
       "\n",
       "    .dataframe thead th {\n",
       "        text-align: right;\n",
       "    }\n",
       "</style>\n",
       "<table border=\"1\" class=\"dataframe\">\n",
       "  <thead>\n",
       "    <tr style=\"text-align: right;\">\n",
       "      <th></th>\n",
       "      <th>Category</th>\n",
       "      <th>Item</th>\n",
       "      <th>Serving Size</th>\n",
       "      <th>Calories</th>\n",
       "      <th>Calories from Fat</th>\n",
       "      <th>Total Fat (g)</th>\n",
       "      <th>Total Fat (% Daily Value)</th>\n",
       "      <th>Saturated Fat (g)</th>\n",
       "      <th>Saturated Fat (% Daily Value)</th>\n",
       "      <th>Trans Fat (g)</th>\n",
       "      <th>...</th>\n",
       "      <th>Carbohydrates (% Daily Value)</th>\n",
       "      <th>Dietary Fiber (g)</th>\n",
       "      <th>Dietary Fiber (% Daily Value)</th>\n",
       "      <th>Sugars (g)</th>\n",
       "      <th>Protein (g)</th>\n",
       "      <th>Vitamin A (% Daily Value)</th>\n",
       "      <th>Vitamin C (% Daily Value)</th>\n",
       "      <th>Calcium (% Daily Value)</th>\n",
       "      <th>Iron (% Daily Value)</th>\n",
       "      <th>Target</th>\n",
       "    </tr>\n",
       "  </thead>\n",
       "  <tbody>\n",
       "    <tr>\n",
       "      <th>0</th>\n",
       "      <td>Chicken &amp; Fish</td>\n",
       "      <td>Chicken McNuggets (20 piece)</td>\n",
       "      <td>11.4 oz (323 g)</td>\n",
       "      <td>940</td>\n",
       "      <td>530</td>\n",
       "      <td>59.0</td>\n",
       "      <td>91</td>\n",
       "      <td>10.0</td>\n",
       "      <td>50</td>\n",
       "      <td>0.0</td>\n",
       "      <td>...</td>\n",
       "      <td>20</td>\n",
       "      <td>3</td>\n",
       "      <td>12</td>\n",
       "      <td>0</td>\n",
       "      <td>44</td>\n",
       "      <td>0</td>\n",
       "      <td>8</td>\n",
       "      <td>4</td>\n",
       "      <td>10</td>\n",
       "      <td>0</td>\n",
       "    </tr>\n",
       "    <tr>\n",
       "      <th>1</th>\n",
       "      <td>Chicken &amp; Fish</td>\n",
       "      <td>Chicken McNuggets (40 piece)</td>\n",
       "      <td>22.8 oz (646 g)</td>\n",
       "      <td>1880</td>\n",
       "      <td>1060</td>\n",
       "      <td>118.0</td>\n",
       "      <td>182</td>\n",
       "      <td>20.0</td>\n",
       "      <td>101</td>\n",
       "      <td>1.0</td>\n",
       "      <td>...</td>\n",
       "      <td>39</td>\n",
       "      <td>6</td>\n",
       "      <td>24</td>\n",
       "      <td>1</td>\n",
       "      <td>87</td>\n",
       "      <td>0</td>\n",
       "      <td>15</td>\n",
       "      <td>8</td>\n",
       "      <td>25</td>\n",
       "      <td>0</td>\n",
       "    </tr>\n",
       "    <tr>\n",
       "      <th>2</th>\n",
       "      <td>Breakfast</td>\n",
       "      <td>Sausage Biscuit (Regular Biscuit)</td>\n",
       "      <td>4.1 oz (117 g)</td>\n",
       "      <td>430</td>\n",
       "      <td>240</td>\n",
       "      <td>27.0</td>\n",
       "      <td>42</td>\n",
       "      <td>12.0</td>\n",
       "      <td>62</td>\n",
       "      <td>0.0</td>\n",
       "      <td>...</td>\n",
       "      <td>11</td>\n",
       "      <td>2</td>\n",
       "      <td>6</td>\n",
       "      <td>2</td>\n",
       "      <td>11</td>\n",
       "      <td>0</td>\n",
       "      <td>0</td>\n",
       "      <td>6</td>\n",
       "      <td>15</td>\n",
       "      <td>0</td>\n",
       "    </tr>\n",
       "    <tr>\n",
       "      <th>3</th>\n",
       "      <td>Breakfast</td>\n",
       "      <td>Sausage Biscuit with Egg (Regular Biscuit)</td>\n",
       "      <td>5.7 oz (163 g)</td>\n",
       "      <td>510</td>\n",
       "      <td>290</td>\n",
       "      <td>33.0</td>\n",
       "      <td>50</td>\n",
       "      <td>14.0</td>\n",
       "      <td>71</td>\n",
       "      <td>0.0</td>\n",
       "      <td>...</td>\n",
       "      <td>12</td>\n",
       "      <td>2</td>\n",
       "      <td>6</td>\n",
       "      <td>2</td>\n",
       "      <td>18</td>\n",
       "      <td>6</td>\n",
       "      <td>0</td>\n",
       "      <td>10</td>\n",
       "      <td>20</td>\n",
       "      <td>0</td>\n",
       "    </tr>\n",
       "    <tr>\n",
       "      <th>4</th>\n",
       "      <td>Breakfast</td>\n",
       "      <td>Steak &amp; Egg Biscuit (Regular Biscuit)</td>\n",
       "      <td>7.1 oz (201 g)</td>\n",
       "      <td>540</td>\n",
       "      <td>290</td>\n",
       "      <td>32.0</td>\n",
       "      <td>49</td>\n",
       "      <td>16.0</td>\n",
       "      <td>78</td>\n",
       "      <td>1.0</td>\n",
       "      <td>...</td>\n",
       "      <td>13</td>\n",
       "      <td>2</td>\n",
       "      <td>8</td>\n",
       "      <td>3</td>\n",
       "      <td>25</td>\n",
       "      <td>10</td>\n",
       "      <td>2</td>\n",
       "      <td>20</td>\n",
       "      <td>25</td>\n",
       "      <td>0</td>\n",
       "    </tr>\n",
       "  </tbody>\n",
       "</table>\n",
       "<p>5 rows × 26 columns</p>\n",
       "</div>"
      ],
      "text/plain": [
       "         Category                                        Item  \\\n",
       "0  Chicken & Fish                Chicken McNuggets (20 piece)   \n",
       "1  Chicken & Fish                Chicken McNuggets (40 piece)   \n",
       "2       Breakfast           Sausage Biscuit (Regular Biscuit)   \n",
       "3       Breakfast  Sausage Biscuit with Egg (Regular Biscuit)   \n",
       "4       Breakfast       Steak & Egg Biscuit (Regular Biscuit)   \n",
       "\n",
       "      Serving Size  Calories  Calories from Fat  Total Fat (g)  \\\n",
       "0  11.4 oz (323 g)       940                530           59.0   \n",
       "1  22.8 oz (646 g)      1880               1060          118.0   \n",
       "2   4.1 oz (117 g)       430                240           27.0   \n",
       "3   5.7 oz (163 g)       510                290           33.0   \n",
       "4   7.1 oz (201 g)       540                290           32.0   \n",
       "\n",
       "   Total Fat (% Daily Value)  Saturated Fat (g)  \\\n",
       "0                         91               10.0   \n",
       "1                        182               20.0   \n",
       "2                         42               12.0   \n",
       "3                         50               14.0   \n",
       "4                         49               16.0   \n",
       "\n",
       "   Saturated Fat (% Daily Value)  Trans Fat (g)  ...  \\\n",
       "0                             50            0.0  ...   \n",
       "1                            101            1.0  ...   \n",
       "2                             62            0.0  ...   \n",
       "3                             71            0.0  ...   \n",
       "4                             78            1.0  ...   \n",
       "\n",
       "   Carbohydrates (% Daily Value)  Dietary Fiber (g)  \\\n",
       "0                             20                  3   \n",
       "1                             39                  6   \n",
       "2                             11                  2   \n",
       "3                             12                  2   \n",
       "4                             13                  2   \n",
       "\n",
       "   Dietary Fiber (% Daily Value)  Sugars (g)  Protein (g)  \\\n",
       "0                             12           0           44   \n",
       "1                             24           1           87   \n",
       "2                              6           2           11   \n",
       "3                              6           2           18   \n",
       "4                              8           3           25   \n",
       "\n",
       "   Vitamin A (% Daily Value)  Vitamin C (% Daily Value)  \\\n",
       "0                          0                          8   \n",
       "1                          0                         15   \n",
       "2                          0                          0   \n",
       "3                          6                          0   \n",
       "4                         10                          2   \n",
       "\n",
       "   Calcium (% Daily Value)  Iron (% Daily Value)  Target  \n",
       "0                        4                    10       0  \n",
       "1                        8                    25       0  \n",
       "2                        6                    15       0  \n",
       "3                       10                    20       0  \n",
       "4                       20                    25       0  \n",
       "\n",
       "[5 rows x 26 columns]"
      ]
     },
     "execution_count": 2,
     "metadata": {},
     "output_type": "execute_result"
    }
   ],
   "source": [
    "df = pd.read_csv('menu_comTarget.csv')\n",
    "df.head()"
   ]
  },
  {
   "cell_type": "code",
   "execution_count": 3,
   "metadata": {},
   "outputs": [
    {
     "name": "stdout",
     "output_type": "stream",
     "text": [
      "<class 'pandas.core.frame.DataFrame'>\n",
      "RangeIndex: 260 entries, 0 to 259\n",
      "Data columns (total 26 columns):\n",
      " #   Column                         Non-Null Count  Dtype  \n",
      "---  ------                         --------------  -----  \n",
      " 0   Category                       260 non-null    object \n",
      " 1   Item                           260 non-null    object \n",
      " 2   Serving Size                   260 non-null    object \n",
      " 3   Calories                       260 non-null    int64  \n",
      " 4   Calories from Fat              260 non-null    int64  \n",
      " 5   Total Fat (g)                  260 non-null    float64\n",
      " 6   Total Fat (% Daily Value)      260 non-null    int64  \n",
      " 7   Saturated Fat (g)              260 non-null    float64\n",
      " 8   Saturated Fat (% Daily Value)  260 non-null    int64  \n",
      " 9   Trans Fat (g)                  260 non-null    float64\n",
      " 10  Cholesterol (mg)               260 non-null    int64  \n",
      " 11  Cholesterol (% Daily Value)    260 non-null    int64  \n",
      " 12  Sodium (mg)                    260 non-null    int64  \n",
      " 13  Sodium (g)                     260 non-null    float64\n",
      " 14  Sodium (% Daily Value)         260 non-null    int64  \n",
      " 15  Carbohydrates (g)              260 non-null    int64  \n",
      " 16  Carbohydrates (% Daily Value)  260 non-null    int64  \n",
      " 17  Dietary Fiber (g)              260 non-null    int64  \n",
      " 18  Dietary Fiber (% Daily Value)  260 non-null    int64  \n",
      " 19  Sugars (g)                     260 non-null    int64  \n",
      " 20  Protein (g)                    260 non-null    int64  \n",
      " 21  Vitamin A (% Daily Value)      260 non-null    int64  \n",
      " 22  Vitamin C (% Daily Value)      260 non-null    int64  \n",
      " 23  Calcium (% Daily Value)        260 non-null    int64  \n",
      " 24  Iron (% Daily Value)           260 non-null    int64  \n",
      " 25  Target                         260 non-null    int64  \n",
      "dtypes: float64(4), int64(19), object(3)\n",
      "memory usage: 52.9+ KB\n"
     ]
    }
   ],
   "source": [
    "df.info()"
   ]
  },
  {
   "cell_type": "code",
   "execution_count": 4,
   "metadata": {
    "scrolled": true
   },
   "outputs": [
    {
     "data": {
      "image/png": "[encoded data removed]",
      "text/plain": [
       "<Figure size 1440x1080 with 25 Axes>"
      ]
     },
     "metadata": {
      "needs_background": "light"
     },
     "output_type": "display_data"
    }
   ],
   "source": [
    "import matplotlib.pyplot as plt\n",
    "\n",
    "df.hist(bins=50, figsize=(20,15))\n",
    "plt.show()"
   ]
  },
  {
   "cell_type": "markdown",
   "metadata": {},
   "source": [
    "### Analise dos itens"
   ]
  },
  {
   "cell_type": "code",
   "execution_count": 5,
   "metadata": {},
   "outputs": [
    {
     "data": {
      "image/png": "[encoded data removed]",
      "text/plain": [
       "<Figure size 1584x720 with 1 Axes>"
      ]
     },
     "metadata": {},
     "output_type": "display_data"
    }
   ],
   "source": [
    "import seaborn as sns\n",
    "sns.set_style(\"whitegrid\")\n",
    "plt.figure(figsize=(22,10))\n",
    "\n",
    "ax = sns.boxenplot(x='Category', y='Trans Fat (g)', data=df, color='#eeeeee', palette=\"tab10\")\n",
    "\n",
    "for patch in ax.artists:\n",
    "    r, g, b, a = patch.get_facecolor()\n",
    "    patch.set_facecolor((r, g, b, .9))\n",
    "    \n",
    "plt.title(\"Trans Fat  \\n\", loc=\"center\",size=32,color='#be0c0c',alpha=0.6)\n",
    "plt.xlabel('Category',color='#34495E',fontsize=20) \n",
    "plt.ylabel('Trans Fat',color='#34495E',fontsize=20)\n",
    "plt.xticks(size=16,color='#008abc',rotation='horizontal', wrap=True)  \n",
    "plt.yticks(size=15,color='#006600')\n",
    "plt.show()"
   ]
  },
  {
   "cell_type": "code",
   "execution_count": 6,
   "metadata": {},
   "outputs": [
    {
     "data": {
      "image/png": "[encoded data removed]",
      "text/plain": [
       "<Figure size 1584x720 with 1 Axes>"
      ]
     },
     "metadata": {},
     "output_type": "display_data"
    }
   ],
   "source": [
    "import seaborn as sns\n",
    "sns.set_style(\"whitegrid\")\n",
    "plt.figure(figsize=(22,10))\n",
    "\n",
    "ax = sns.boxenplot(x=\"Category\", y='Sodium (g)', data=df, color='#eeeeee', palette=\"tab10\")\n",
    "\n",
    "for patch in ax.artists:\n",
    "    r, g, b, a = patch.get_facecolor()\n",
    "    patch.set_facecolor((r, g, b, .9))\n",
    "\n",
    "plt.title(\"Sodium  \\n\", loc=\"center\",size=32,color='#be0c0c',alpha=0.6)\n",
    "plt.xlabel('Category',color='#34495E',fontsize=20) \n",
    "plt.ylabel('Sodium',color='#34495E',fontsize=20)\n",
    "plt.xticks(size=16,color='#008abc',rotation='horizontal', wrap=True)  \n",
    "plt.yticks(size=15,color='#006600')\n",
    "plt.show()"
   ]
  },
  {
   "cell_type": "code",
   "execution_count": 7,
   "metadata": {},
   "outputs": [
    {
     "data": {
      "image/png": "[encoded data removed]",
      "text/plain": [
       "<Figure size 1584x720 with 1 Axes>"
      ]
     },
     "metadata": {},
     "output_type": "display_data"
    }
   ],
   "source": [
    "import seaborn as sns\n",
    "sns.set_style(\"whitegrid\")\n",
    "plt.figure(figsize=(22,10))\n",
    "\n",
    "ax = sns.boxenplot(x=\"Category\", y='Sugars (g)', data=df, color='#eeeeee', palette=\"tab10\")\n",
    "\n",
    "for patch in ax.artists:\n",
    "    r, g, b, a = patch.get_facecolor()\n",
    "    patch.set_facecolor((r, g, b, .9))\n",
    "\n",
    "plt.title(\"Sugars  \\n\", loc=\"center\",size=32,color='#be0c0c',alpha=0.6)\n",
    "plt.xlabel('Category',color='#34495E',fontsize=20) \n",
    "plt.ylabel('Sugars',color='#34495E',fontsize=20)\n",
    "plt.xticks(size=16,color='#008abc',rotation='horizontal', wrap=True)  \n",
    "plt.yticks(size=15,color='#006600')\n",
    "plt.show()"
   ]
  },
  {
   "cell_type": "code",
   "execution_count": 8,
   "metadata": {},
   "outputs": [
    {
     "data": {
      "text/plain": [
       "0    177\n",
       "1     83\n",
       "Name: Target, dtype: int64"
      ]
     },
     "execution_count": 8,
     "metadata": {},
     "output_type": "execute_result"
    }
   ],
   "source": [
    "#Verificar quantidade de target \n",
    "df.Target.value_counts()"
   ]
  },
  {
   "cell_type": "code",
   "execution_count": 9,
   "metadata": {},
   "outputs": [
    {
     "data": {
      "text/plain": [
       "Category                         0\n",
       "Item                             0\n",
       "Serving Size                     0\n",
       "Calories                         0\n",
       "Calories from Fat                0\n",
       "Total Fat (g)                    0\n",
       "Total Fat (% Daily Value)        0\n",
       "Saturated Fat (g)                0\n",
       "Saturated Fat (% Daily Value)    0\n",
       "Trans Fat (g)                    0\n",
       "Cholesterol (mg)                 0\n",
       "Cholesterol (% Daily Value)      0\n",
       "Sodium (mg)                      0\n",
       "Sodium (g)                       0\n",
       "Sodium (% Daily Value)           0\n",
       "Carbohydrates (g)                0\n",
       "Carbohydrates (% Daily Value)    0\n",
       "Dietary Fiber (g)                0\n",
       "Dietary Fiber (% Daily Value)    0\n",
       "Sugars (g)                       0\n",
       "Protein (g)                      0\n",
       "Vitamin A (% Daily Value)        0\n",
       "Vitamin C (% Daily Value)        0\n",
       "Calcium (% Daily Value)          0\n",
       "Iron (% Daily Value)             0\n",
       "Target                           0\n",
       "dtype: int64"
      ]
     },
     "execution_count": 9,
     "metadata": {},
     "output_type": "execute_result"
    }
   ],
   "source": [
    "#Verificar se há valores faltantes\n",
    "df.isna().sum()"
   ]
  },
  {
   "cell_type": "code",
   "execution_count": 10,
   "metadata": {},
   "outputs": [
    {
     "data": {
      "image/png": "[encoded data removed]",
      "text/plain": [
       "<Figure size 432x288 with 1 Axes>"
      ]
     },
     "metadata": {},
     "output_type": "display_data"
    }
   ],
   "source": [
    "import seaborn as sns\n",
    "\n",
    "sns.countplot(x='Target', data=df)\n",
    "plt.xlabel(\"Target (0 = não saudável , 1= saudável )\")\n",
    "plt.show()"
   ]
  },
  {
   "cell_type": "markdown",
   "metadata": {},
   "source": [
    "### Etapa de Treino e Teste"
   ]
  },
  {
   "cell_type": "code",
   "execution_count": 11,
   "metadata": {},
   "outputs": [],
   "source": [
    "from sklearn.model_selection import train_test_split\n",
    "\n",
    "# separando os conjuntos de dados de treino e teste\n",
    "df_treino, df_teste = train_test_split(df, test_size=0.2, random_state=42)\n",
    "\n",
    "# separando a coluna alvo do conjunto de treino\n",
    "df_treino_labels = df_treino['Target'].copy()\n",
    "df_treino        = df_treino.drop(columns='Target')\n",
    "\n",
    "# separando a coluna alvo do conjunto de teste\n",
    "df_teste_labels = df_teste['Target'].copy()\n",
    "df_teste        = df_teste.drop(columns='Target')"
   ]
  },
  {
   "cell_type": "code",
   "execution_count": 12,
   "metadata": {},
   "outputs": [],
   "source": [
    "from sklearn.impute import SimpleImputer\n",
    "from sklearn.preprocessing import StandardScaler\n",
    "from sklearn.preprocessing import OneHotEncoder\n",
    "\n",
    "from sklearn.pipeline import Pipeline\n",
    "from sklearn.compose import ColumnTransformer"
   ]
  },
  {
   "cell_type": "code",
   "execution_count": 13,
   "metadata": {},
   "outputs": [],
   "source": [
    "nomes_atributos_numericos   =['Calories', 'Calories from Fat',\n",
    "       'Total Fat (g)', 'Total Fat (% Daily Value)', 'Saturated Fat (g)',\n",
    "       'Saturated Fat (% Daily Value)', 'Trans Fat (g)', 'Cholesterol (mg)',\n",
    "       'Cholesterol (% Daily Value)', 'Sodium (mg)', 'Sodium (g)',\n",
    "       'Sodium (% Daily Value)', 'Carbohydrates (g)',\n",
    "       'Carbohydrates (% Daily Value)', 'Dietary Fiber (g)',\n",
    "       'Dietary Fiber (% Daily Value)', 'Sugars (g)', 'Protein (g)',\n",
    "       'Vitamin A (% Daily Value)', 'Vitamin C (% Daily Value)',\n",
    "       'Calcium (% Daily Value)', 'Iron (% Daily Value)']\n",
    "nomes_atributos_categoricos = ['Category']"
   ]
  },
  {
   "cell_type": "code",
   "execution_count": 14,
   "metadata": {},
   "outputs": [],
   "source": [
    "pipeline_atr_numericos = Pipeline([\n",
    "    ('imputer',SimpleImputer(strategy='mean')),\n",
    "    ('scaler', StandardScaler()),\n",
    "])\n",
    "\n",
    "preproc_completo = ColumnTransformer([\n",
    "    ('numericos',   pipeline_atr_numericos, nomes_atributos_numericos),\n",
    "    ('categoricos', OneHotEncoder(),        nomes_atributos_categoricos),\n",
    "    ], \n",
    "    sparse_threshold=0)"
   ]
  },
  {
   "cell_type": "code",
   "execution_count": 15,
   "metadata": {},
   "outputs": [],
   "source": [
    "# pre-processamento do conjunto de treino\n",
    "X_treino = preproc_completo.fit_transform(df_treino)\n",
    "\n",
    "# chamar fit_transform é o mesmo que chamar \n",
    "# primeiro fit para aprender os parâmetros\n",
    "# e depois chamar transform para realizar \n",
    "# as transformações com base nos parâmetros\n",
    "# previamente aprendidos, ou seja, chamar:\n",
    "\n",
    "# pre-processamento do conjunto de teste\n",
    "X_teste = preproc_completo.transform(df_teste)"
   ]
  },
  {
   "cell_type": "code",
   "execution_count": 16,
   "metadata": {},
   "outputs": [],
   "source": [
    "# Coluna alvo para os conjuntos de treino e teste\n",
    "y_treino = df_treino_labels.values\n",
    "y_teste = df_teste_labels.values"
   ]
  },
  {
   "cell_type": "code",
   "execution_count": 17,
   "metadata": {},
   "outputs": [
    {
     "data": {
      "text/plain": [
       "array([0, 1, 0, 0, 0, 0, 1, 0, 1, 0, 0, 0, 0, 1, 1, 0, 0, 0, 0, 1, 0, 0,\n",
       "       0, 0, 0, 0, 0, 0, 1, 0, 0, 1, 0, 1, 0, 0, 1, 0, 1, 0, 0, 0, 0, 0,\n",
       "       0, 0, 0, 0, 1, 1, 0, 0, 0, 0, 0, 0, 0, 0, 0, 0, 0, 1, 0, 0, 0, 0,\n",
       "       0, 1, 1, 0, 0, 1, 1, 0, 0, 0, 1, 0, 0, 1, 0, 1, 1, 0, 0, 0, 1, 0,\n",
       "       0, 1, 1, 0, 0, 0, 0, 0, 0, 1, 0, 0, 0, 0, 1, 1, 0, 1, 0, 0, 0, 0,\n",
       "       0, 0, 0, 0, 1, 1, 0, 0, 1, 0, 0, 1, 0, 0, 0, 1, 0, 0, 0, 0, 1, 1,\n",
       "       1, 0, 0, 0, 0, 1, 0, 0, 1, 0, 0, 0, 1, 1, 0, 0, 0, 0, 1, 0, 0, 0,\n",
       "       0, 1, 0, 1, 1, 0, 0, 0, 0, 1, 0, 1, 1, 0, 1, 1, 1, 0, 0, 1, 0, 0,\n",
       "       0, 0, 1, 0, 1, 1, 1, 0, 0, 0, 1, 1, 0, 0, 0, 0, 0, 0, 0, 0, 0, 1,\n",
       "       0, 1, 1, 0, 1, 0, 1, 0, 0, 0], dtype=int64)"
      ]
     },
     "execution_count": 17,
     "metadata": {},
     "output_type": "execute_result"
    }
   ],
   "source": [
    "y_treino"
   ]
  },
  {
   "cell_type": "code",
   "execution_count": 18,
   "metadata": {},
   "outputs": [
    {
     "name": "stdout",
     "output_type": "stream",
     "text": [
      "(208, 31)\n",
      "(208,)\n",
      "(52, 31)\n",
      "(52,)\n"
     ]
    }
   ],
   "source": [
    "print(X_treino.shape)\n",
    "print(y_treino.shape)\n",
    "print(X_teste.shape)\n",
    "print(y_teste.shape)"
   ]
  },
  {
   "cell_type": "code",
   "execution_count": 27,
   "metadata": {},
   "outputs": [
    {
     "data": {
      "text/plain": [
       "LogisticRegression(solver='liblinear')"
      ]
     },
     "execution_count": 27,
     "metadata": {},
     "output_type": "execute_result"
    }
   ],
   "source": [
    "from sklearn.linear_model import LogisticRegression\n",
    "\n",
    "log_reg = LogisticRegression(solver='liblinear')\n",
    "log_reg.fit(X_treino, y_treino)"
   ]
  },
  {
   "cell_type": "code",
   "execution_count": 28,
   "metadata": {},
   "outputs": [
    {
     "data": {
      "text/plain": [
       "array([[0.86, 0.14],\n",
       "       [0.01, 0.99],\n",
       "       [0.48, 0.52],\n",
       "       [0.01, 0.99],\n",
       "       [0.  , 1.  ],\n",
       "       [0.79, 0.21],\n",
       "       [1.  , 0.  ],\n",
       "       [1.  , 0.  ],\n",
       "       [0.83, 0.17],\n",
       "       [0.51, 0.49],\n",
       "       [0.84, 0.16],\n",
       "       [0.73, 0.27],\n",
       "       [0.79, 0.21],\n",
       "       [0.  , 1.  ],\n",
       "       [0.01, 0.99],\n",
       "       [0.1 , 0.9 ],\n",
       "       [0.04, 0.96],\n",
       "       [0.9 , 0.1 ],\n",
       "       [0.05, 0.95],\n",
       "       [0.95, 0.05],\n",
       "       [0.99, 0.01],\n",
       "       [0.99, 0.01],\n",
       "       [0.96, 0.04],\n",
       "       [0.06, 0.94],\n",
       "       [0.01, 0.99],\n",
       "       [0.86, 0.14],\n",
       "       [0.82, 0.18],\n",
       "       [0.97, 0.03],\n",
       "       [1.  , 0.  ],\n",
       "       [0.42, 0.58],\n",
       "       [0.03, 0.97],\n",
       "       [0.45, 0.55],\n",
       "       [1.  , 0.  ],\n",
       "       [0.99, 0.01],\n",
       "       [0.03, 0.97],\n",
       "       [0.98, 0.02],\n",
       "       [0.4 , 0.6 ],\n",
       "       [0.93, 0.07],\n",
       "       [0.97, 0.03],\n",
       "       [0.98, 0.02],\n",
       "       [0.98, 0.02],\n",
       "       [1.  , 0.  ],\n",
       "       [0.96, 0.04],\n",
       "       [1.  , 0.  ],\n",
       "       [0.9 , 0.1 ],\n",
       "       [0.06, 0.94],\n",
       "       [1.  , 0.  ],\n",
       "       [0.8 , 0.2 ],\n",
       "       [0.97, 0.03],\n",
       "       [1.  , 0.  ],\n",
       "       [0.97, 0.03],\n",
       "       [0.01, 0.99]])"
      ]
     },
     "execution_count": 28,
     "metadata": {},
     "output_type": "execute_result"
    }
   ],
   "source": [
    "import numpy as np\n",
    "y_probabilidade_reglog = log_reg.predict_proba(X_teste)\n",
    "np.round(y_probabilidade_reglog,decimals=2)"
   ]
  },
  {
   "cell_type": "code",
   "execution_count": 29,
   "metadata": {},
   "outputs": [
    {
     "data": {
      "text/plain": [
       "array([0, 1, 1, 1, 1, 0, 0, 0, 0, 0, 0, 0, 0, 1, 1, 1, 1, 0, 1, 0, 0, 0,\n",
       "       0, 1, 1, 0, 0, 0, 0, 1, 1, 1, 0, 0, 1, 0, 1, 0, 0, 0, 0, 0, 0, 0,\n",
       "       0, 1, 0, 0, 0, 0, 0, 1], dtype=int64)"
      ]
     },
     "execution_count": 29,
     "metadata": {},
     "output_type": "execute_result"
    }
   ],
   "source": [
    "y_previsto_reglog = log_reg.predict(X_teste)\n",
    "y_previsto_reglog"
   ]
  },
  {
   "cell_type": "code",
   "execution_count": 30,
   "metadata": {},
   "outputs": [
    {
     "data": {
      "text/plain": [
       "array([ True,  True,  True,  True,  True, False,  True,  True,  True,\n",
       "       False,  True, False,  True,  True,  True,  True,  True,  True,\n",
       "        True,  True,  True,  True,  True,  True,  True,  True,  True,\n",
       "        True,  True, False,  True,  True,  True,  True,  True,  True,\n",
       "        True,  True,  True,  True,  True,  True,  True,  True,  True,\n",
       "        True,  True,  True,  True,  True,  True,  True])"
      ]
     },
     "execution_count": 30,
     "metadata": {},
     "output_type": "execute_result"
    }
   ],
   "source": [
    "acertos_reglog = y_previsto_reglog == y_teste\n",
    "acertos_reglog"
   ]
  },
  {
   "cell_type": "code",
   "execution_count": 31,
   "metadata": {},
   "outputs": [
    {
     "name": "stdout",
     "output_type": "stream",
     "text": [
      "[[ 0  1]\n",
      " [ 4 48]]\n"
     ]
    }
   ],
   "source": [
    "import numpy as np\n",
    "valores_reglog, quantidades_reglog = np.unique(acertos_reglog, return_counts=True)\n",
    "print(np.asarray((valores_reglog, quantidades_reglog)))"
   ]
  },
  {
   "cell_type": "code",
   "execution_count": 32,
   "metadata": {},
   "outputs": [
    {
     "name": "stdout",
     "output_type": "stream",
     "text": [
      "Acurácia:  0.9230769230769231\n"
     ]
    }
   ],
   "source": [
    "print(\"Acurácia: \", quantidades_reglog[1]/y_teste.shape[0])"
   ]
  },
  {
   "cell_type": "markdown",
   "metadata": {},
   "source": [
    "### Decision Tree"
   ]
  },
  {
   "cell_type": "code",
   "execution_count": 34,
   "metadata": {},
   "outputs": [],
   "source": [
    "preproc_completo_2 = ColumnTransformer([\n",
    "    ('numericos',   'passthrough',    nomes_atributos_numericos),\n",
    "    ('categoricos', OneHotEncoder(),  nomes_atributos_categoricos),\n",
    "    ], \n",
    "    sparse_threshold=0)\n",
    "\n",
    "# pre-processamento do conjunto de treino\n",
    "X_treino_tree = preproc_completo_2.fit_transform(df_treino)\n",
    "\n",
    "# pre-processamento do conjunto de teste\n",
    "X_teste_tree = preproc_completo_2.transform(df_teste)"
   ]
  },
  {
   "cell_type": "code",
   "execution_count": 35,
   "metadata": {},
   "outputs": [
    {
     "data": {
      "text/plain": [
       "array([0, 1], dtype=int64)"
      ]
     },
     "execution_count": 35,
     "metadata": {},
     "output_type": "execute_result"
    }
   ],
   "source": [
    "dt = DecisionTreeClassifier(max_depth=2)\n",
    "dt.fit(X_treino_tree, y_treino)\n",
    "dt.classes_"
   ]
  },
  {
   "cell_type": "code",
   "execution_count": 36,
   "metadata": {},
   "outputs": [
    {
     "data": {
      "text/plain": [
       "array([[0.95, 0.05],\n",
       "       [0.  , 1.  ],\n",
       "       [0.95, 0.05],\n",
       "       [0.  , 1.  ],\n",
       "       [0.  , 1.  ],\n",
       "       [0.95, 0.05],\n",
       "       [0.95, 0.05],\n",
       "       [0.95, 0.05],\n",
       "       [0.95, 0.05],\n",
       "       [0.  , 1.  ],\n",
       "       [0.95, 0.05],\n",
       "       [0.95, 0.05],\n",
       "       [0.95, 0.05],\n",
       "       [0.  , 1.  ],\n",
       "       [0.  , 1.  ],\n",
       "       [0.  , 1.  ],\n",
       "       [0.  , 1.  ],\n",
       "       [0.95, 0.05],\n",
       "       [0.  , 1.  ],\n",
       "       [0.95, 0.05],\n",
       "       [0.95, 0.05],\n",
       "       [0.95, 0.05],\n",
       "       [0.95, 0.05],\n",
       "       [0.  , 1.  ],\n",
       "       [0.  , 1.  ],\n",
       "       [0.95, 0.05],\n",
       "       [0.95, 0.05],\n",
       "       [0.95, 0.05],\n",
       "       [0.95, 0.05],\n",
       "       [0.  , 1.  ],\n",
       "       [0.  , 1.  ],\n",
       "       [0.95, 0.05],\n",
       "       [0.95, 0.05],\n",
       "       [0.95, 0.05],\n",
       "       [0.  , 1.  ],\n",
       "       [0.95, 0.05],\n",
       "       [0.95, 0.05],\n",
       "       [0.95, 0.05],\n",
       "       [0.95, 0.05],\n",
       "       [0.95, 0.05],\n",
       "       [0.95, 0.05],\n",
       "       [0.95, 0.05],\n",
       "       [0.95, 0.05],\n",
       "       [0.95, 0.05],\n",
       "       [0.95, 0.05],\n",
       "       [0.  , 1.  ],\n",
       "       [0.95, 0.05],\n",
       "       [1.  , 0.  ],\n",
       "       [0.95, 0.05],\n",
       "       [0.95, 0.05],\n",
       "       [0.95, 0.05],\n",
       "       [0.  , 1.  ]])"
      ]
     },
     "execution_count": 36,
     "metadata": {},
     "output_type": "execute_result"
    }
   ],
   "source": [
    "y_probabilidade_dt = dt.predict_proba(X_teste_tree)\n",
    "np.round(y_probabilidade_dt,decimals=2)"
   ]
  },
  {
   "cell_type": "code",
   "execution_count": 37,
   "metadata": {},
   "outputs": [
    {
     "data": {
      "text/plain": [
       "array([0, 1, 0, 1, 1, 0, 0, 0, 0, 1, 0, 0, 0, 1, 1, 1, 1, 0, 1, 0, 0, 0,\n",
       "       0, 1, 1, 0, 0, 0, 0, 1, 1, 0, 0, 0, 1, 0, 0, 0, 0, 0, 0, 0, 0, 0,\n",
       "       0, 1, 0, 0, 0, 0, 0, 1], dtype=int64)"
      ]
     },
     "execution_count": 37,
     "metadata": {},
     "output_type": "execute_result"
    }
   ],
   "source": [
    "y_previsto_dt = dt.predict(X_teste_tree)\n",
    "y_previsto_dt"
   ]
  },
  {
   "cell_type": "code",
   "execution_count": 38,
   "metadata": {},
   "outputs": [
    {
     "data": {
      "text/plain": [
       "array([ True,  True, False,  True,  True, False,  True,  True,  True,\n",
       "        True,  True, False,  True,  True,  True,  True,  True,  True,\n",
       "        True,  True,  True,  True,  True,  True,  True,  True,  True,\n",
       "        True,  True, False,  True, False,  True,  True,  True,  True,\n",
       "       False,  True,  True,  True,  True,  True,  True,  True,  True,\n",
       "        True,  True,  True,  True,  True,  True,  True])"
      ]
     },
     "execution_count": 38,
     "metadata": {},
     "output_type": "execute_result"
    }
   ],
   "source": [
    "acertos_dt = y_previsto_dt == y_teste\n",
    "acertos_dt"
   ]
  },
  {
   "cell_type": "code",
   "execution_count": 39,
   "metadata": {},
   "outputs": [
    {
     "name": "stdout",
     "output_type": "stream",
     "text": [
      "[[ 0  1]\n",
      " [ 6 46]]\n"
     ]
    }
   ],
   "source": [
    "valores_dt, quantidades_dt = np.unique(acertos_dt, return_counts=True)\n",
    "print(np.asarray((valores_dt, quantidades_dt)))"
   ]
  },
  {
   "cell_type": "code",
   "execution_count": 41,
   "metadata": {},
   "outputs": [
    {
     "name": "stdout",
     "output_type": "stream",
     "text": [
      "Acurácia:  0.8846153846153846\n"
     ]
    }
   ],
   "source": [
    "from sklearn.metrics import accuracy_score\n",
    "print(\"Acurácia: \", accuracy_score(y_teste,y_previsto_dt))"
   ]
  },
  {
   "cell_type": "markdown",
   "metadata": {},
   "source": [
    "### Random Forest"
   ]
  },
  {
   "cell_type": "code",
   "execution_count": 42,
   "metadata": {},
   "outputs": [
    {
     "data": {
      "text/plain": [
       "array([0, 1], dtype=int64)"
      ]
     },
     "execution_count": 42,
     "metadata": {},
     "output_type": "execute_result"
    }
   ],
   "source": [
    "from sklearn.ensemble import RandomForestClassifier #for the model\n",
    "rf = RandomForestClassifier(max_depth=5,random_state=42)\n",
    "rf.fit(X_treino_tree, y_treino)\n",
    "rf.classes_"
   ]
  },
  {
   "cell_type": "code",
   "execution_count": 43,
   "metadata": {},
   "outputs": [
    {
     "data": {
      "text/plain": [
       "array([[0.51, 0.49],\n",
       "       [0.01, 0.99],\n",
       "       [0.38, 0.62],\n",
       "       [0.01, 0.99],\n",
       "       [0.03, 0.97],\n",
       "       [0.8 , 0.2 ],\n",
       "       [1.  , 0.  ],\n",
       "       [0.98, 0.02],\n",
       "       [0.96, 0.04],\n",
       "       [0.17, 0.83],\n",
       "       [0.97, 0.03],\n",
       "       [0.44, 0.56],\n",
       "       [0.97, 0.03],\n",
       "       [0.03, 0.97],\n",
       "       [0.03, 0.97],\n",
       "       [0.28, 0.72],\n",
       "       [0.05, 0.95],\n",
       "       [0.87, 0.13],\n",
       "       [0.05, 0.95],\n",
       "       [0.98, 0.02],\n",
       "       [0.99, 0.01],\n",
       "       [0.96, 0.04],\n",
       "       [0.98, 0.02],\n",
       "       [0.03, 0.97],\n",
       "       [0.01, 0.99],\n",
       "       [0.86, 0.14],\n",
       "       [0.98, 0.02],\n",
       "       [0.99, 0.01],\n",
       "       [0.99, 0.01],\n",
       "       [0.35, 0.65],\n",
       "       [0.04, 0.96],\n",
       "       [0.31, 0.69],\n",
       "       [0.99, 0.01],\n",
       "       [1.  , 0.  ],\n",
       "       [0.03, 0.97],\n",
       "       [0.98, 0.02],\n",
       "       [0.41, 0.59],\n",
       "       [0.98, 0.02],\n",
       "       [0.95, 0.05],\n",
       "       [0.97, 0.03],\n",
       "       [0.96, 0.04],\n",
       "       [0.96, 0.04],\n",
       "       [0.96, 0.04],\n",
       "       [0.98, 0.02],\n",
       "       [1.  , 0.  ],\n",
       "       [0.08, 0.92],\n",
       "       [0.98, 0.02],\n",
       "       [0.93, 0.07],\n",
       "       [0.97, 0.03],\n",
       "       [1.  , 0.  ],\n",
       "       [0.96, 0.04],\n",
       "       [0.04, 0.96]])"
      ]
     },
     "execution_count": 43,
     "metadata": {},
     "output_type": "execute_result"
    }
   ],
   "source": [
    "y_probabilidade_rf = rf.predict_proba(X_teste_tree)\n",
    "np.round(y_probabilidade_rf,decimals=2)"
   ]
  },
  {
   "cell_type": "code",
   "execution_count": 44,
   "metadata": {},
   "outputs": [
    {
     "data": {
      "text/plain": [
       "array([0, 1, 1, 1, 1, 0, 0, 0, 0, 1, 0, 1, 0, 1, 1, 1, 1, 0, 1, 0, 0, 0,\n",
       "       0, 1, 1, 0, 0, 0, 0, 1, 1, 1, 0, 0, 1, 0, 1, 0, 0, 0, 0, 0, 0, 0,\n",
       "       0, 1, 0, 0, 0, 0, 0, 1], dtype=int64)"
      ]
     },
     "execution_count": 44,
     "metadata": {},
     "output_type": "execute_result"
    }
   ],
   "source": [
    "y_previsto_rf = rf.predict(X_teste_tree)\n",
    "y_previsto_rf"
   ]
  },
  {
   "cell_type": "code",
   "execution_count": 45,
   "metadata": {},
   "outputs": [
    {
     "data": {
      "text/plain": [
       "array([ True,  True,  True,  True,  True, False,  True,  True,  True,\n",
       "        True,  True,  True,  True,  True,  True,  True,  True,  True,\n",
       "        True,  True,  True,  True,  True,  True,  True,  True,  True,\n",
       "        True,  True, False,  True,  True,  True,  True,  True,  True,\n",
       "        True,  True,  True,  True,  True,  True,  True,  True,  True,\n",
       "        True,  True,  True,  True,  True,  True,  True])"
      ]
     },
     "execution_count": 45,
     "metadata": {},
     "output_type": "execute_result"
    }
   ],
   "source": [
    "acertos_rf = y_previsto_rf == y_teste\n",
    "acertos_rf"
   ]
  },
  {
   "cell_type": "code",
   "execution_count": 46,
   "metadata": {},
   "outputs": [
    {
     "name": "stdout",
     "output_type": "stream",
     "text": [
      "[[ 0  1]\n",
      " [ 2 50]]\n"
     ]
    }
   ],
   "source": [
    "valores_rf, quantidades_rf = np.unique(acertos_rf, return_counts=True)\n",
    "print(np.asarray((valores_rf, quantidades_rf)))"
   ]
  },
  {
   "cell_type": "code",
   "execution_count": 47,
   "metadata": {},
   "outputs": [
    {
     "name": "stdout",
     "output_type": "stream",
     "text": [
      "Acurácia:  0.9615384615384616\n"
     ]
    }
   ],
   "source": [
    "print(\"Acurácia: \", accuracy_score(y_teste,y_previsto_rf))"
   ]
  },
  {
   "cell_type": "code",
   "execution_count": 48,
   "metadata": {},
   "outputs": [
    {
     "data": {
      "text/html": [
       "<div>\n",
       "<style scoped>\n",
       "    .dataframe tbody tr th:only-of-type {\n",
       "        vertical-align: middle;\n",
       "    }\n",
       "\n",
       "    .dataframe tbody tr th {\n",
       "        vertical-align: top;\n",
       "    }\n",
       "\n",
       "    .dataframe thead th {\n",
       "        text-align: right;\n",
       "    }\n",
       "</style>\n",
       "<table border=\"1\" class=\"dataframe\">\n",
       "  <thead>\n",
       "    <tr style=\"text-align: right;\">\n",
       "      <th></th>\n",
       "      <th>Model</th>\n",
       "      <th>Training Accuracy %</th>\n",
       "      <th>Testing Accuracy %</th>\n",
       "    </tr>\n",
       "  </thead>\n",
       "  <tbody>\n",
       "    <tr>\n",
       "      <th>0</th>\n",
       "      <td>Regressão Logísitca</td>\n",
       "      <td>99.038462</td>\n",
       "      <td>92.307692</td>\n",
       "    </tr>\n",
       "    <tr>\n",
       "      <th>1</th>\n",
       "      <td>Decision Tree</td>\n",
       "      <td>96.153846</td>\n",
       "      <td>88.461538</td>\n",
       "    </tr>\n",
       "    <tr>\n",
       "      <th>2</th>\n",
       "      <td>Random Forest</td>\n",
       "      <td>100.000000</td>\n",
       "      <td>96.153846</td>\n",
       "    </tr>\n",
       "  </tbody>\n",
       "</table>\n",
       "</div>"
      ],
      "text/plain": [
       "                 Model  Training Accuracy %  Testing Accuracy %\n",
       "0  Regressão Logísitca            99.038462           92.307692\n",
       "1        Decision Tree            96.153846           88.461538\n",
       "2        Random Forest           100.000000           96.153846"
      ]
     },
     "execution_count": 48,
     "metadata": {},
     "output_type": "execute_result"
    }
   ],
   "source": [
    "rl_test_score = accuracy_score(y_teste, log_reg.predict(X_teste)) * 100\n",
    "rl_train_score = accuracy_score(y_treino, log_reg.predict(X_treino)) * 100\n",
    "dt_test_score = accuracy_score(y_teste, dt.predict(X_teste_tree)) * 100\n",
    "dt_train_score = accuracy_score(y_treino, dt.predict(X_treino_tree)) * 100\n",
    "rf_test_score = accuracy_score(y_teste, rf.predict(X_teste_tree)) * 100\n",
    "rf_train_score = accuracy_score(y_treino, rf.predict(X_treino_tree)) * 100\n",
    "\n",
    "results_df = pd.DataFrame(data=[[\"Regressão Logísitca\", rl_train_score, rl_test_score],\n",
    "                                [\"Decision Tree\",dt_train_score,dt_test_score],\n",
    "                                [\"Random Forest\",rf_train_score,rf_test_score]], \n",
    "                          columns=['Model', 'Training Accuracy %', 'Testing Accuracy %'])\n",
    "results_df"
   ]
  },
  {
   "cell_type": "code",
   "execution_count": 51,
   "metadata": {},
   "outputs": [],
   "source": [
    "from sklearn.metrics import accuracy_score, confusion_matrix, precision_score, recall_score, f1_score\n",
    "\n",
    "def print_score(clf, X_treino, y_treino, X_teste, y_teste, train=True):\n",
    "    if train:\n",
    "        pred = clf.predict(X_treino)\n",
    "        print(\"Resultado do treino:\\n================================================\")\n",
    "        print(f\"Accuracy Score: {accuracy_score(y_treino, pred) * 100:.2f}%\")\n",
    "        print(\"_______________________________________________\")\n",
    "        print(\"Classification Report:\", end='')\n",
    "        print(f\"\\tPrecision Score: {precision_score(y_treino, pred) * 100:.2f}%\")\n",
    "        print(f\"\\t\\t\\tRecall Score: {recall_score(y_treino, pred) * 100:.2f}%\")\n",
    "        print(f\"\\t\\t\\tF1 score: {f1_score(y_treino, pred) * 100:.2f}%\")\n",
    "        print(\"_______________________________________________\")\n",
    "        print(f\"Confusion Matrix: \\n {confusion_matrix(y_treino, pred)}\\n\")\n",
    "        \n",
    "    elif train==False:\n",
    "        pred = clf.predict(X_teste)\n",
    "        print(\"Resultado do teste:\\n================================================\")        \n",
    "        print(f\"Accuracy Score: {accuracy_score(y_teste, pred) * 100:.2f}%\")\n",
    "        print(\"_______________________________________________\")\n",
    "        print(\"Classification Report:\", end='')\n",
    "        print(f\"\\tPrecision Score: {precision_score(y_teste, pred) * 100:.2f}%\")\n",
    "        print(f\"\\t\\t\\tRecall Score: {recall_score(y_teste, pred) * 100:.2f}%\")\n",
    "        print(f\"\\t\\t\\tF1 score: {f1_score(y_teste, pred) * 100:.2f}%\")\n",
    "        print(\"_______________________________________________\")\n",
    "        print(f\"Confusion Matrix: \\n {confusion_matrix(y_teste, pred)}\\n\")\n",
    "        "
   ]
  },
  {
   "cell_type": "code",
   "execution_count": 50,
   "metadata": {},
   "outputs": [
    {
     "name": "stdout",
     "output_type": "stream",
     "text": [
      "========Logistic Regression========\n",
      "\n",
      "Resultado do treino:\n",
      "================================================\n",
      "Accuracy Score: 99.04%\n",
      "_______________________________________________\n",
      "Classification Report:\tPrecision Score: 100.00%\n",
      "\t\t\tRecall Score: 96.83%\n",
      "\t\t\tF1 score: 98.39%\n",
      "_______________________________________________\n",
      "Confusion Matrix: \n",
      " [[145   0]\n",
      " [  2  61]]\n",
      "\n",
      "Resultado do teste:\n",
      "================================================\n",
      "Accuracy Score: 92.31%\n",
      "_______________________________________________\n",
      "Classification Report:\tPrecision Score: 94.44%\n",
      "\t\t\tRecall Score: 85.00%\n",
      "\t\t\tF1 score: 89.47%\n",
      "_______________________________________________\n",
      "Confusion Matrix: \n",
      " [[31  1]\n",
      " [ 3 17]]\n",
      "\n"
     ]
    }
   ],
   "source": [
    "print(\"========Logistic Regression========\")\n",
    "print(\"\")\n",
    "print_score(log_reg, X_treino, y_treino, X_teste, y_teste, train=True)\n",
    "print_score(log_reg, X_treino, y_treino, X_teste, y_teste, train=False)"
   ]
  },
  {
   "cell_type": "code",
   "execution_count": 52,
   "metadata": {},
   "outputs": [
    {
     "name": "stdout",
     "output_type": "stream",
     "text": [
      "========Decision Tree========\n",
      "\n",
      "Resultado do treino:\n",
      "================================================\n",
      "Accuracy Score: 96.15%\n",
      "_______________________________________________\n",
      "Classification Report:\tPrecision Score: 100.00%\n",
      "\t\t\tRecall Score: 87.30%\n",
      "\t\t\tF1 score: 93.22%\n",
      "_______________________________________________\n",
      "Confusion Matrix: \n",
      " [[145   0]\n",
      " [  8  55]]\n",
      "\n",
      "Resultado do teste:\n",
      "================================================\n",
      "Accuracy Score: 88.46%\n",
      "_______________________________________________\n",
      "Classification Report:\tPrecision Score: 93.75%\n",
      "\t\t\tRecall Score: 75.00%\n",
      "\t\t\tF1 score: 83.33%\n",
      "_______________________________________________\n",
      "Confusion Matrix: \n",
      " [[31  1]\n",
      " [ 5 15]]\n",
      "\n"
     ]
    }
   ],
   "source": [
    "print(\"========Decision Tree========\")\n",
    "print(\"\")\n",
    "print_score(dt, X_treino_tree, y_treino, X_teste_tree, y_teste, train=True)\n",
    "print_score(dt, X_treino_tree, y_treino, X_teste_tree, y_teste, train=False)"
   ]
  },
  {
   "cell_type": "code",
   "execution_count": 53,
   "metadata": {},
   "outputs": [
    {
     "name": "stdout",
     "output_type": "stream",
     "text": [
      "========Random Forest========\n",
      "\n",
      "Resultado do treino:\n",
      "================================================\n",
      "Accuracy Score: 100.00%\n",
      "_______________________________________________\n",
      "Classification Report:\tPrecision Score: 100.00%\n",
      "\t\t\tRecall Score: 100.00%\n",
      "\t\t\tF1 score: 100.00%\n",
      "_______________________________________________\n",
      "Confusion Matrix: \n",
      " [[145   0]\n",
      " [  0  63]]\n",
      "\n",
      "Resultado do teste:\n",
      "================================================\n",
      "Accuracy Score: 96.15%\n",
      "_______________________________________________\n",
      "Classification Report:\tPrecision Score: 95.00%\n",
      "\t\t\tRecall Score: 95.00%\n",
      "\t\t\tF1 score: 95.00%\n",
      "_______________________________________________\n",
      "Confusion Matrix: \n",
      " [[31  1]\n",
      " [ 1 19]]\n",
      "\n"
     ]
    }
   ],
   "source": [
    "print(\"========Random Forest========\")\n",
    "print(\"\")\n",
    "print_score(rf, X_treino_tree, y_treino, X_teste_tree, y_teste, train=True)\n",
    "print_score(rf, X_treino_tree, y_treino, X_teste_tree, y_teste, train=False)"
   ]
  },
  {
   "cell_type": "code",
   "execution_count": 54,
   "metadata": {},
   "outputs": [],
   "source": [
    "from sklearn.metrics import confusion_matrix\n",
    "\n",
    "cm_lr = confusion_matrix(y_teste, y_previsto_reglog)\n",
    "cm_dt = confusion_matrix(y_teste, y_previsto_dt)\n",
    "cm_rf = confusion_matrix(y_teste, y_previsto_rf)"
   ]
  },
  {
   "cell_type": "code",
   "execution_count": 58,
   "metadata": {},
   "outputs": [
    {
     "data": {
      "text/plain": [
       "<AxesSubplot:title={'center':'Random Forest Confusion Matrix'}>"
      ]
     },
     "execution_count": 58,
     "metadata": {},
     "output_type": "execute_result"
    },
    {
     "data": {
      "image/png": "[encoded data removed]",
      "text/plain": [
       "<Figure size 1728x864 with 3 Axes>"
      ]
     },
     "metadata": {},
     "output_type": "display_data"
    }
   ],
   "source": [
    "plt.figure(figsize=(24,12))\n",
    "\n",
    "plt.suptitle(\"Confusion Matrixes\",fontsize=30)\n",
    "plt.subplots_adjust(wspace = 0.4, hspace= 0.4)\n",
    "\n",
    "plt.subplot(2,3,1)\n",
    "plt.title(\"Logistic Regression Confusion Matrix\")\n",
    "sns.heatmap(cm_lr,annot=True,cmap=\"Blues\",fmt=\"d\",cbar=False, annot_kws={\"size\": 30})\n",
    "\n",
    "plt.subplot(2,3,2)\n",
    "plt.title(\"Decision Tree Classifier Confusion Matrix\")\n",
    "sns.heatmap(cm_dt,annot=True,cmap=\"Blues\",fmt=\"d\",cbar=False, annot_kws={\"size\": 30})\n",
    "\n",
    "plt.subplot(2,3,3)\n",
    "plt.title(\"Random Forest Confusion Matrix\")\n",
    "sns.heatmap(cm_rf,annot=True,cmap=\"Blues\",fmt=\"d\",cbar=False, annot_kws={\"size\": 30})"
   ]
  },
  {
   "cell_type": "markdown",
   "metadata": {},
   "source": [
    "0 = Não Saudavel e 1 = Saudavel"
   ]
  },
  {
   "cell_type": "code",
   "execution_count": 56,
   "metadata": {},
   "outputs": [
    {
     "name": "stdout",
     "output_type": "stream",
     "text": [
      "Logistic Regression\n",
      "Acurácia em cada particionamento:  [0.95238095 1.         1.         0.95121951 1.        ]\n",
      "Acurácia média:  0.9807200929152149\n",
      "\n",
      "Decision Tree\n",
      "Acurácia em cada particionamento:  [0.97619048 1.         0.97619048 0.95121951 0.90243902]\n",
      "Acurácia média:  0.9612078977932637\n",
      "\n",
      "Random Forest\n",
      "Acurácia em cada particionamento:  [0.97619048 1.         1.         0.95121951 0.92682927]\n",
      "Acurácia média:  0.9708478513356562\n"
     ]
    }
   ],
   "source": [
    "from sklearn.model_selection import cross_val_score\n",
    "\n",
    "lr_cv_scores = cross_val_score(log_reg, X_treino, y_treino)\n",
    "dt_cv_scores = cross_val_score(dt, X_treino_tree, y_treino)\n",
    "rf_cv_scores = cross_val_score(rf, X_treino_tree, y_treino)\n",
    "\n",
    "print(\"Logistic Regression\")\n",
    "print(\"Acurácia em cada particionamento: \", lr_cv_scores)\n",
    "print(\"Acurácia média: \", lr_cv_scores.mean())\n",
    "print(\"\")\n",
    "print(\"Decision Tree\")\n",
    "print(\"Acurácia em cada particionamento: \", dt_cv_scores)\n",
    "print(\"Acurácia média: \", dt_cv_scores.mean())\n",
    "print(\"\")\n",
    "print(\"Random Forest\")\n",
    "print(\"Acurácia em cada particionamento: \", rf_cv_scores)\n",
    "print(\"Acurácia média: \", rf_cv_scores.mean())"
   ]
  },
  {
   "cell_type": "markdown",
   "metadata": {},
   "source": [
    "Através das analises gráficas e testes realizados com base na precisão de acerto, chegamos a conclusão que por maior acurácia o random forest nos indica que 19 lanches do McDonalds (DataBase) podem ser colocados como \"saudaveis\""
   ]
  },
  {
   "cell_type": "code",
   "execution_count": null,
   "metadata": {},
   "outputs": [],
   "source": []
  }
 ],
 "metadata": {
  "kernelspec": {
   "display_name": "Python 3",
   "language": "python",
   "name": "python3"
  },
  "language_info": {
   "codemirror_mode": {
    "name": "ipython",
    "version": 3
   },
   "file_extension": ".py",
   "mimetype": "text/x-python",
   "name": "python",
   "nbconvert_exporter": "python",
   "pygments_lexer": "ipython3",
   "version": "3.8.5"
  }
 },
 "nbformat": 4,
 "nbformat_minor": 4
}
